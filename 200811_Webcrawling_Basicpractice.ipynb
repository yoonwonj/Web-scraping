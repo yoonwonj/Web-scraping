{
 "cells": [
  {
   "cell_type": "markdown",
   "metadata": {
    "id": "QzHRhpr-ysVf"
   },
   "source": [
    "코딩 강의 https://www.inflearn.com/course/crawling-scrapy-selenium/dashboard 의 실습 과제 수행"
   ]
  },
  {
   "cell_type": "markdown",
   "metadata": {
    "id": "_F_vCGaqw6Ro"
   },
   "source": [
    "# Selenium을 이용한 크롤링 준비작업"
   ]
  },
  {
   "cell_type": "code",
   "execution_count": null,
   "metadata": {
    "id": "cXCTsIw-w6R2"
   },
   "outputs": [],
   "source": [
    "#pip3 install selenium"
   ]
  },
  {
   "cell_type": "markdown",
   "metadata": {
    "id": "P_4JXcRKw6R5"
   },
   "source": [
    "https://sites.google.com/a/chromium.org/chromedriver/ (Chrome 브라우저용)  \n",
    ": chromedriver 설치 후, selenium 디렉토리의 webdriver>chrome에 파일 옮겨 저장"
   ]
  },
  {
   "cell_type": "markdown",
   "metadata": {
    "id": "bBl1oSLZw6R7"
   },
   "source": [
    "# 다음 뉴스 크롤링"
   ]
  },
  {
   "cell_type": "markdown",
   "metadata": {
    "id": "nBhjnGcdxFbZ"
   },
   "source": [
    "### 1. 다음 뉴스 기사 제목 가져오기\n",
    "개발자 모드(F12)를 눌러, 제목에 해당하는 소스를 찾으면 tag, class 등을 확인할 수 있다\n"
   ]
  },
  {
   "cell_type": "code",
   "execution_count": null,
   "metadata": {
    "id": "KlW_FrCWxBAk",
    "outputId": "9c10c9e8-2f86-45ee-87f7-4c97aba15ef3"
   },
   "outputs": [
    {
     "name": "stdout",
     "output_type": "stream",
     "text": [
      "'포켓몬고' 상륙 1주일.. 대한민국 곳곳이 들썩\n",
      "'포켓몬고' 상륙 1주일.. 대한민국 곳곳이 들썩\n",
      "'포켓몬고' 상륙 1주일.. 대한민국 곳곳이 들썩\n"
     ]
    }
   ],
   "source": [
    "from selenium import webdriver\n",
    "from selenium.webdriver.common.keys import Keys\n",
    "\n",
    "chromedriver = 'C:\\\\Users\\\\lovel\\\\Anaconda3\\\\Lib\\\\site-packages\\\\selenium\\\\webdriver\\\\chrome\\\\chromedriver.exe'\n",
    "headless_options= webdriver.ChromeOptions()\n",
    "headless_options.add_argument('headless') \n",
    "headless_options.add_argument('window-size=1920x1080')\n",
    "headless_options.add_argument(\"lang=ko_KR\")\n",
    "web_options.add_argument(\"disable-gpu\")\n",
    "driver = webdriver.Chrome(chromedriver, options=headless_options)\n",
    "\n",
    "driver.get('https://news.v.daum.net/v/20170202185812986')\n",
    "title= driver.find_element_by_tag_name('h3') #제목의 태그인 h3를 찾는다\n",
    "print (title.text)\n",
    "\n",
    "title= driver.find_element_by_class_name('tit_view')\n",
    "print (title.text)\n",
    "\n",
    "title= driver.find_element_by_css_selector('h3.tit_view')\n",
    "print(title.text)\n",
    "\n",
    "driver.quit()"
   ]
  },
  {
   "cell_type": "markdown",
   "metadata": {
    "id": "CMrvqlo1xBAk"
   },
   "source": [
    "### 2. 다음 뉴스 기사 내용 가져오기\n",
    "개발자 모드(F12)를 눌러, 제목에 해당하는 소스를 찾으면 tag, class 등을 확인할 수 있다.\n",
    "\n",
    "<br>\n",
    "이때 주의점:\n",
    "* head 태그 관련: get_attribute('text') (이 함수로 text를 호출해줘야 한다)<br>\n",
    "* body 태그 관련: text (함수로 호출해주면 안 나오고, text자체를 입력해야 한다)<br>\n",
    "![image.png](attachment:image.png)\n",
    "-> 지금까지는 태그 혹은 id를 다 body에서 찾았기 때문에 변수.text로 호출했고, head로부터 호출하고 싶다면 get_attribute함수를 써야 한다는 의미."
   ]
  },
  {
   "cell_type": "code",
   "execution_count": null,
   "metadata": {
    "id": "tf7nbcfOxBAl",
    "outputId": "64f80d96-f20c-47ea-e1d9-4b6f8ead8d21",
    "scrolled": true
   },
   "outputs": [
    {
     "name": "stdout",
     "output_type": "stream",
     "text": [
      "이용자수 700만명 육박 국민 10명중 1명이 경험\n",
      "전국 번화가.공원 '북적' 지역 상권도 후광효과\n",
      "출몰 잦은'포세권' 편의점 핫팩.간식 등 매출 급증\n",
      "지난달 24일 출시된 모바일게임 '포켓몬고'가 출시 1주일여만에 우리나라 거리 풍경을 크게 바꿔놨다. 번화가나 공원 등 거리 곳곳에서 손에 스마트폰을 들고 '포켓몬'을 사냥하는 모습을 손쉽게 찾아볼 수 있게 된 것이다.다른 국가에 비해 반년 가량 늦게 출시됐음에도 불구, 이용자 수가 700만명에 육박한 것으로 알려졌다. 우리나라 국민 10명 중 1명은 지난 1주일 사이에 한번은 포켓몬고 게임을 해봤다는 얘기다.\n",
      "\n",
      "지역경제 활성화에도 도움이 되고 있다. 포켓몬이 자주 출몰하는 지역으로 입소문을 탄 지역 편의점 매출이 급증하는 현상도 나타났다. 지난해 여름, 강원도 속초가 '포켓몬고' 특수를 톡톡히 누린 것과 비슷한 현상이 전국 곳곳에서 나타나고 있는 것이다.\n",
      "\n",
      "■우리 국민 10명 중 1명은 '포켓몬고' 게이머\n",
      "\n",
      "애플리케이션(앱) 분석업체 와이즈앱은 2일 전국 2만3000명의 안드로이드 스마트폰 사용자 표본조사를 바탕으로 추정한 지난 1주일간 '포켓몬고' 이용자는 698만명이라고 발표했다. 특히 10대와 20대 이용자들이 '포켓몬고'에 열광하고 있는 것으로 나타났다. 전체 이용자의 65% 이상이 10대와 20대다.\n",
      "\n",
      "이 게임 개발사인 나이언틱랩스가 설 연휴 직전에 출시한 전략도 제대로 맞아 떨어졌다. 지난 설 연휴, 고향에서 가족과 친지들이 모여 '포켓몬고'를 즐기는 모습이 곳곳에서 눈에 띄였다. 고속도로 휴게소 등에서도 포켓몬고 이용자들도 많았다.\n",
      "\n",
      "전국 번화가와 공원 등 게임 내 주요 장소인 '포켓스톱'으로 지정된 곳이 많은 지역은 '포켓몬고' 게이머들로 붐볐다. 서울 노원역, 이수역, 강남역, 잠실역 등 번화가와 부산 시민공원, 대전 오월드, 제천 의림지 등 전국 주요 장소로 '포켓몬'을 찾는 이들이 몰려들었다.\n",
      "\n",
      "지역 명소를 찾는 이들도 부쩍 늘었다. 주로 교회나 절, 조형물 등이 '포켓스톱'으로 지정돼 있기 때문에 평소에는 그냥 지나쳤던 명소를 다시 한번 돌아보게 되는 계기가 됐다는 게이머들도 많다.\n",
      "\n",
      "업계 관계자는 \"포켓스톱은 포켓몬고를 즐기기 위해 반드시 지나쳐야 하는 곳이기 때문에 평소엔 그냥 지나쳤더라도 요즘엔 멈춰서서 다시 한번 보는 경우가 많다\"며 \"겨울철이라 집안에만 있기 쉽지만 포켓몬고를 하기 위해 밖으로 걸어다니기 때문에 건강에도 긍정적\"이라고 언급했다.\n",
      "\n",
      "■'포켓몬고' 인기에 지역 상권도 '후광효과'\n",
      "\n",
      "포켓몬고는 지역 상권에도 영향을 주고 있다. '포켓몬'이 자주 출몰하는 이른바 '포세권'의 편의점은 후광효과를 톡톡히 보고 있다. 포켓몬을 쫓아온 게이머들이 대거 몰리면서 휴대폰 충전기와 핫팩은 물론 음료,간식 등의 매출이 쑥쑥 오르는 상황이다.\n",
      "\n",
      "세븐일레븐의 경우 포켓몬고 게임이 출시된 지난달 24일 이후 지난 1일까지 9일간 매출이 게임 출시 직전 9일에 비해 휴대폰 관련 용품 매출이 61.3%, 핫팩은 66.2%증가했다. 탄산음료와 컵라면,스낵과자도 같은 기간 매출이 33.5%,22%,16.3% 올랐다.\n",
      "\n",
      "'포세권'으로 입소문을 탄 부산시민공원점도 휴대용용품과 핫팩 매출이 각각 54%, 60.5% 늘었고 간식류 매출도 10~20% 증가했다. GS25의 대전오월드점은 같은 기간 커피와 차는 매출이 420%, 휴대폰 용품과 핫팩은 각각 271%, 268% 급증했다. 라면(46%)을 비롯한 간식류 매출도 크게 늘었다.\n",
      "\n",
      "세븐일레븐 관계자는 \"포켓몬고 이용자들이 많이 몰리는 지역 점포들의 관련 상품 매출이 크게 오르고 있다\"면서 \"수요가 높은 상품군 위주로 재고를 늘리고 진열도 확대하는 등 포켓몬고 특수에 대응하고 있다\"고 말했다.\n",
      "\n",
      "■일부 부작용도 있어 '주의'\n",
      "\n",
      "게임이 인기를 끌면서 일부 부작용도 나타나고 있어 이용자들의 주의가 요구된다. 출입이 금지된 구역에 등장하는 '포켓몬'을 획득하기 위해 금지구역을 넘어서거나 운전하면서 포켓몬고를 즐기는 사례가 잇따라 보고되고 있다. 해외에서도 '포켓몬고' 출시 당시 이런 부작용이 속출했는데 우리나라도 비슷한 현상을 겪고 있는 것이다.\n",
      "\n",
      "나이언틱랩스는 특정 속도 이상 빠르게 움직이면 '포켓몬'을 사냥할 수 없도록 하고 게임 도중 출입금지 구역에 가지 말라고 여러차례 공지하고 있다.\n",
      "\n",
      "jjoony@fnnews.com 허준 이환주 기자\n",
      "※ 저작권자 ⓒ . 무단 전재-재배포 금지\n"
     ]
    }
   ],
   "source": [
    "chromedriver = 'C:\\\\Users\\\\lovel\\\\Anaconda3\\\\Lib\\\\site-packages\\\\selenium\\\\webdriver\\\\chrome\\\\chromedriver.exe'\n",
    "headless_options= webdriver.ChromeOptions()\n",
    "headless_options.add_argument('headless') \n",
    "headless_options.add_argument('window-size=1920x1080')\n",
    "headless_options.add_argument(\"lang=ko_KR\")\n",
    "web_options.add_argument(\"disable-gpu\")\n",
    "driver = webdriver.Chrome(chromedriver, options=headless_options)\n",
    "\n",
    "driver.get('https://news.v.daum.net/v/20170202185812986')\n",
    "\n",
    "content= driver.find_element_by_id('harmonyContainer')\n",
    "print(content.text)\n",
    "\n",
    "driver.quit()"
   ]
  },
  {
   "cell_type": "markdown",
   "metadata": {
    "id": "DgZm2_D_w6R9"
   },
   "source": [
    "### 3. 추가 적용\n",
    "- 적용1. 추천순 댓글은 전체 댓글 보여주지 않는 현상\n",
    "    - recent_button variable 지정해줌으로써 최신순 댓글 클릭해주기\n",
    "- 적용2. 이모티콘만 있는 댓글의 경우 오류 발생하는 현상 수정\n",
    "    - 댓글 print 할 때  try/  except 함수 사용해서 이모티콘만 있는 댓글은 스킵함"
   ]
  },
  {
   "cell_type": "code",
   "execution_count": null,
   "metadata": {
    "id": "mKZtg2gcw6R-"
   },
   "outputs": [],
   "source": [
    "comment_box = driver.find_element_by_css_selector('#cbox_module > div.u_cbox_wrap.u_cbox_ko.u_cbox_type_sort_favorite > div.u_cbox_content_wrap > ul')\n",
    "comment_list = comment_box.find_elements_by_tag_name('li')\n",
    "comment_div = comment_box.find_elements_by_css_selector('div')\n",
    "\n",
    "\n",
    "for num, comment_item in enumerate (comment_list): #넘버링으로 댓글 추출\n",
    "    print(\"[\", str(num+1), \"] \", comment_item.find_element_by_css_selector('div span').text)\n"
   ]
  },
  {
   "cell_type": "code",
   "execution_count": null,
   "metadata": {
    "id": "7owGEtBfw6R_"
   },
   "outputs": [],
   "source": [
    "from selenium import webdriver\n",
    "from selenium.webdriver.common.by import By\n",
    "from selenium.webdriver.support.ui import WebDriverWait\n",
    "from selenium.webdriver.support import expected_conditions as EC\n",
    "from selenium.common.exceptions import TimeoutException\n",
    "\n",
    "import time\n",
    "\n",
    "\n",
    "chromedriver = '/usr/local/Cellar/chromedriver'\n",
    "driver = webdriver.Chrome(chromedriver)\n",
    "driver.get('https://news.v.daum.net/v/20200722164549123')\n",
    "\n",
    "recent_button = driver.find_element_by_css_selector('#alex-area > div > div > div > div.cmt_box > ul.list_category > li:nth-child(3) > button > span')\n",
    "webdriver.ActionChains(driver).click(recent_button).perform()\n",
    "\n",
    "loop, count = True, 0\n",
    "# loop = 0\n",
    "# count = 0\n",
    "while loop and count < 10:\n",
    "\n",
    "    try:\n",
    "        element = WebDriverWait(driver, 5).until(\n",
    "            EC.presence_of_element_located((By.CSS_SELECTOR, '#alex-area > div > div > div > div.cmt_box > div.alex_more > a'))\n",
    "        )\n",
    "        more_button = driver.find_element_by_css_selector('#alex-area > div > div > div > div.cmt_box > div.alex_more > a')\n",
    "        webdriver.ActionChains(driver).click(more_button).perform()\n",
    "        count += 1 \n",
    "        \n",
    "        time.sleep(2)\n",
    "        \n",
    "    except TimeoutException:\n",
    "        loop = False\n",
    "        \n",
    "comment_box = driver.find_element_by_css_selector('#alex-area > div > div > div > div.cmt_box > ul.list_comment')\n",
    "comment_list = comment_box.find_elements_by_tag_name('li')\n",
    "\n",
    "for num, comment_item in enumerate (comment_list): #각각의 li 추출\n",
    "    try:\n",
    "        print(\"[\", str(num+1), \"] \", comment_item.find_element_by_css_selector('div p').text)\n",
    "    except:\n",
    "        pass\n",
    "        \n",
    "\n",
    "driver.quit()"
   ]
  },
  {
   "cell_type": "markdown",
   "metadata": {
    "id": "ZPx7o_s1xlXq"
   },
   "source": [
    "# Scrapy 연습: Response 사용법 이해 (Scrapy Shell)\n",
    "Shell: 터미널 모드에서 쥬피터 노트북과 같은 인터페이스 제공<br>\n",
    "터미널에서 아래 코드 입력"
   ]
  },
  {
   "cell_type": "code",
   "execution_count": null,
   "metadata": {
    "id": "BrBBngwMx_UN"
   },
   "outputs": [],
   "source": [
    "#pip install scrapy\n",
    "\n",
    "#윈도우에서 정상 설치가 안 될 시, 다음 코드 실행 시도\n",
    "#pip install --upgrade setuptools\n",
    "#pip install pypiwin32\n",
    "#pip install twisted[tls]"
   ]
  },
  {
   "cell_type": "code",
   "execution_count": null,
   "metadata": {
    "id": "z90um98OxlXq"
   },
   "outputs": [],
   "source": [
    "scrapy shell \"https://www.gmarket.co.kr/\""
   ]
  },
  {
   "cell_type": "markdown",
   "metadata": {
    "id": "xQUAGlPtxlXr"
   },
   "source": [
    "위 코드를 실행하게 되면, 입력한 주소의 html파일을 가져와서 명령을 기다리는 상태가 됨\n",
    "![image.png](attachment:image.png)"
   ]
  },
  {
   "cell_type": "markdown",
   "metadata": {
    "id": "Hz-eqoGHxlXr"
   },
   "source": [
    "[1]위에 있는 것들이 사용 가능한 명령들의 리스트. <br>\n",
    "혹은 shelp()를 입력하면 명령들의 리스트를 다시 출력할 수 있다."
   ]
  },
  {
   "cell_type": "code",
   "execution_count": null,
   "metadata": {
    "id": "zq3r7bChxlXs"
   },
   "outputs": [],
   "source": [
    "view(response) #크롤링한 페이지를 웹브라우저를 통해 확인하기\n",
    "response.url #크롤링한 페이지 주소 확인\n",
    "response.text #프롬프트에 가져온 html을 텍스트로 출력"
   ]
  },
  {
   "cell_type": "markdown",
   "metadata": {
    "id": "HwYVC0MrxlXs"
   },
   "source": [
    "response.css(): css selector 로 데이터 가져오기"
   ]
  },
  {
   "cell_type": "code",
   "execution_count": null,
   "metadata": {
    "id": "6tdJ00LvxlXt"
   },
   "outputs": [],
   "source": [
    "response.css('head > title').get() #텍스트&태그 가져오기\n",
    "response.css('head > title').getall()\n",
    "response.css('head > title::text').get() #태그는 빼고, 텍스트만 가져오기"
   ]
  },
  {
   "cell_type": "code",
   "execution_count": null,
   "metadata": {
    "id": "MryS6J99xlXu"
   },
   "outputs": [],
   "source": [
    "# gmarket 메인에 노출된 카테고리 가져오기\n",
    "response.css('span.link__1depth-item::text').getall() #span태그 중 'link__1depth-item'클래스를 가진 것들의 text만 출력"
   ]
  },
  {
   "cell_type": "code",
   "execution_count": null,
   "metadata": {
    "id": "3qt8IQ0_xlXu"
   },
   "outputs": [],
   "source": [
    "#gmarket 메인에 노출된 카테고리 중 특정 순번에 있는 텍스트만 가져오기\n",
    "response.css('span.link__1depth-item::text')[2].get()"
   ]
  },
  {
   "cell_type": "markdown",
   "metadata": {
    "id": "acaNR7cHxlXv"
   },
   "source": [
    "response.xpath(): xpath 로 데이터 가져오기"
   ]
  },
  {
   "cell_type": "code",
   "execution_count": null,
   "metadata": {
    "id": "4Uvh2F8VxlXv"
   },
   "outputs": [],
   "source": [
    "#css selector로부터 xpath 직접 작성: //span[@class='link__1depth-item']\n",
    "response.xpath(\"//span[@class='link__1depth-item']\").getall() #태그와 텍스트 모두 출력\n",
    "response.xpath(\"//span[@class='link__1depth-item']/text()\").getall() #텍스트만 출력"
   ]
  }
 ],
 "metadata": {
  "colab": {
   "collapsed_sections": [
    "ZPx7o_s1xlXq"
   ],
   "name": "200811_Webcrawling_Basicpractice.ipynb",
   "provenance": []
  },
  "kernelspec": {
   "display_name": "Python 3",
   "language": "python",
   "name": "python3"
  },
  "language_info": {
   "codemirror_mode": {
    "name": "ipython",
    "version": 3
   },
   "file_extension": ".py",
   "mimetype": "text/x-python",
   "name": "python",
   "nbconvert_exporter": "python",
   "pygments_lexer": "ipython3",
   "version": "3.7.3"
  }
 },
 "nbformat": 4,
 "nbformat_minor": 1
}
